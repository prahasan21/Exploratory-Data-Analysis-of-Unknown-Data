{
 "cells": [
  {
   "cell_type": "code",
   "execution_count": 19,
   "metadata": {},
   "outputs": [],
   "source": [
    "import pandas as pd\n",
    "import seaborn as sns\n",
    "import matplotlib.pyplot as plt\n",
    "import warnings; warnings.simplefilter('ignore')\n",
    "%matplotlib inline"
   ]
  },
  {
   "cell_type": "code",
   "execution_count": 2,
   "metadata": {},
   "outputs": [
    {
     "name": "stdout",
     "output_type": "stream",
     "text": [
      "(2000, 500)\n",
      "(600, 500)\n",
      "(2000, 1)\n",
      "(600, 1)\n"
     ]
    }
   ],
   "source": [
    "#File reading\n",
    "train_data = pd.read_table('a3-train.data', sep='\\s+', header= None)\n",
    "test_data = pd.read_table('a3-test.data', sep='\\s+', header= None)\n",
    "train_label = pd.read_table('a3-train.labels.txt', sep='\\s+', header= None)\n",
    "test_label = pd.read_table('a3-test.labels.txt', sep='\\s+', header= None)\n",
    "print(train_data.shape)\n",
    "print(test_data.shape)\n",
    "print(train_label.shape)\n",
    "print(test_label.shape)"
   ]
  },
  {
   "cell_type": "code",
   "execution_count": 3,
   "metadata": {},
   "outputs": [
    {
     "data": {
      "text/plain": [
       "[]"
      ]
     },
     "execution_count": 3,
     "metadata": {},
     "output_type": "execute_result"
    }
   ],
   "source": [
    "#Line1\n",
    "#EDA phase\n",
    "#Unique Identifier coloumns needs to be discarded\n",
    "List_Of_unique_identifier_coloumns = []\n",
    "No_Of_Unique_Values = []\n",
    "for i in range(0,500,1):\n",
    "    count_of_unique_values = train_data[i].nunique()\n",
    "    No_Of_Unique_Values.append(count_of_unique_values)\n",
    "    if(count_of_unique_values == 2000):\n",
    "        List_Of_unique_identifier_coloumns.append(i)\n",
    "    else:\n",
    "        continue\n",
    "List_Of_unique_identifier_coloumns"
   ]
  },
  {
   "cell_type": "code",
   "execution_count": 4,
   "metadata": {},
   "outputs": [
    {
     "name": "stdout",
     "output_type": "stream",
     "text": [
      "0\n",
      "0      0\n",
      "1      0\n",
      "2      0\n",
      "3      0\n",
      "4      0\n",
      "5      0\n",
      "6      0\n",
      "7      0\n",
      "8      0\n",
      "9      0\n",
      "10     0\n",
      "11     0\n",
      "12     0\n",
      "13     0\n",
      "14     0\n",
      "15     0\n",
      "16     0\n",
      "17     0\n",
      "18     0\n",
      "19     0\n",
      "20     0\n",
      "21     0\n",
      "22     0\n",
      "23     0\n",
      "24     0\n",
      "25     0\n",
      "26     0\n",
      "27     0\n",
      "28     0\n",
      "29     0\n",
      "      ..\n",
      "470    0\n",
      "471    0\n",
      "472    0\n",
      "473    0\n",
      "474    0\n",
      "475    0\n",
      "476    0\n",
      "477    0\n",
      "478    0\n",
      "479    0\n",
      "480    0\n",
      "481    0\n",
      "482    0\n",
      "483    0\n",
      "484    0\n",
      "485    0\n",
      "486    0\n",
      "487    0\n",
      "488    0\n",
      "489    0\n",
      "490    0\n",
      "491    0\n",
      "492    0\n",
      "493    0\n",
      "494    0\n",
      "495    0\n",
      "496    0\n",
      "497    0\n",
      "498    0\n",
      "499    0\n",
      "Length: 500, dtype: int64\n"
     ]
    }
   ],
   "source": [
    "#Line 2\n",
    "#Are there any missing or weird values\n",
    "print(train_data.isnull().values.sum())\n",
    "print(train_data.isnull().sum())\n"
   ]
  },
  {
   "cell_type": "code",
   "execution_count": 22,
   "metadata": {},
   "outputs": [
    {
     "data": {
      "text/plain": [
       "Text(0.5,1,'Label Balancing')"
      ]
     },
     "execution_count": 22,
     "metadata": {},
     "output_type": "execute_result"
    },
    {
     "data": {
      "image/png": "[encoded data removed]",
      "text/plain": [
       "<Figure size 360x360 with 1 Axes>"
      ]
     },
     "metadata": {},
     "output_type": "display_data"
    }
   ],
   "source": [
    "#Line 3\n",
    "#Are the labels balanced\n",
    "train_label[0].value_counts()\n",
    "label_bal = train_label.groupby([0]).size()\n",
    "fig, ax = plt.subplots(figsize=(5,5))\n",
    "sns.barplot(label_bal.keys(), label_bal.values)\n",
    "plt.xlabel(\"classes\")\n",
    "plt.ylabel(\"No of classes\")\n",
    "plt.title(\"Label Balancing\")"
   ]
  },
  {
   "cell_type": "code",
   "execution_count": 6,
   "metadata": {},
   "outputs": [
    {
     "data": {
      "text/html": [
       "<div>\n",
       "<style scoped>\n",
       "    .dataframe tbody tr th:only-of-type {\n",
       "        vertical-align: middle;\n",
       "    }\n",
       "\n",
       "    .dataframe tbody tr th {\n",
       "        vertical-align: top;\n",
       "    }\n",
       "\n",
       "    .dataframe thead th {\n",
       "        text-align: right;\n",
       "    }\n",
       "</style>\n",
       "<table border=\"1\" class=\"dataframe\">\n",
       "  <thead>\n",
       "    <tr style=\"text-align: right;\">\n",
       "      <th></th>\n",
       "      <th>0</th>\n",
       "      <th>1</th>\n",
       "      <th>2</th>\n",
       "      <th>3</th>\n",
       "      <th>4</th>\n",
       "      <th>5</th>\n",
       "      <th>6</th>\n",
       "      <th>7</th>\n",
       "      <th>8</th>\n",
       "      <th>9</th>\n",
       "      <th>...</th>\n",
       "      <th>490</th>\n",
       "      <th>491</th>\n",
       "      <th>492</th>\n",
       "      <th>493</th>\n",
       "      <th>494</th>\n",
       "      <th>495</th>\n",
       "      <th>496</th>\n",
       "      <th>497</th>\n",
       "      <th>498</th>\n",
       "      <th>499</th>\n",
       "    </tr>\n",
       "  </thead>\n",
       "  <tbody>\n",
       "    <tr>\n",
       "      <th>count</th>\n",
       "      <td>2000.000000</td>\n",
       "      <td>2000.000000</td>\n",
       "      <td>2000.000000</td>\n",
       "      <td>2000.000000</td>\n",
       "      <td>2000.000000</td>\n",
       "      <td>2000.000000</td>\n",
       "      <td>2000.000000</td>\n",
       "      <td>2000.000000</td>\n",
       "      <td>2000.000000</td>\n",
       "      <td>2000.00000</td>\n",
       "      <td>...</td>\n",
       "      <td>2000.000000</td>\n",
       "      <td>2000.000000</td>\n",
       "      <td>2000.000000</td>\n",
       "      <td>2000.000000</td>\n",
       "      <td>2000.00000</td>\n",
       "      <td>2000.000000</td>\n",
       "      <td>2000.000000</td>\n",
       "      <td>2000.000000</td>\n",
       "      <td>2000.000000</td>\n",
       "      <td>2000.000000</td>\n",
       "    </tr>\n",
       "    <tr>\n",
       "      <th>mean</th>\n",
       "      <td>481.722500</td>\n",
       "      <td>483.452500</td>\n",
       "      <td>510.166000</td>\n",
       "      <td>483.384500</td>\n",
       "      <td>501.612500</td>\n",
       "      <td>479.259000</td>\n",
       "      <td>480.109500</td>\n",
       "      <td>476.565000</td>\n",
       "      <td>486.793500</td>\n",
       "      <td>478.78900</td>\n",
       "      <td>...</td>\n",
       "      <td>482.458500</td>\n",
       "      <td>478.811500</td>\n",
       "      <td>486.356500</td>\n",
       "      <td>496.565500</td>\n",
       "      <td>493.49950</td>\n",
       "      <td>510.893000</td>\n",
       "      <td>478.219500</td>\n",
       "      <td>483.309000</td>\n",
       "      <td>507.977000</td>\n",
       "      <td>490.266000</td>\n",
       "    </tr>\n",
       "    <tr>\n",
       "      <th>std</th>\n",
       "      <td>6.421769</td>\n",
       "      <td>30.186294</td>\n",
       "      <td>38.899165</td>\n",
       "      <td>9.059895</td>\n",
       "      <td>41.389418</td>\n",
       "      <td>6.795956</td>\n",
       "      <td>40.575925</td>\n",
       "      <td>1.384461</td>\n",
       "      <td>15.043836</td>\n",
       "      <td>7.19092</td>\n",
       "      <td>...</td>\n",
       "      <td>20.890033</td>\n",
       "      <td>4.011735</td>\n",
       "      <td>23.967366</td>\n",
       "      <td>127.635442</td>\n",
       "      <td>34.81902</td>\n",
       "      <td>37.459353</td>\n",
       "      <td>5.880613</td>\n",
       "      <td>13.559847</td>\n",
       "      <td>37.224297</td>\n",
       "      <td>25.825273</td>\n",
       "    </tr>\n",
       "    <tr>\n",
       "      <th>min</th>\n",
       "      <td>462.000000</td>\n",
       "      <td>381.000000</td>\n",
       "      <td>370.000000</td>\n",
       "      <td>453.000000</td>\n",
       "      <td>371.000000</td>\n",
       "      <td>459.000000</td>\n",
       "      <td>334.000000</td>\n",
       "      <td>471.000000</td>\n",
       "      <td>430.000000</td>\n",
       "      <td>455.00000</td>\n",
       "      <td>...</td>\n",
       "      <td>407.000000</td>\n",
       "      <td>463.000000</td>\n",
       "      <td>391.000000</td>\n",
       "      <td>130.000000</td>\n",
       "      <td>368.00000</td>\n",
       "      <td>398.000000</td>\n",
       "      <td>457.000000</td>\n",
       "      <td>435.000000</td>\n",
       "      <td>363.000000</td>\n",
       "      <td>403.000000</td>\n",
       "    </tr>\n",
       "    <tr>\n",
       "      <th>25%</th>\n",
       "      <td>477.000000</td>\n",
       "      <td>464.000000</td>\n",
       "      <td>485.000000</td>\n",
       "      <td>477.000000</td>\n",
       "      <td>475.000000</td>\n",
       "      <td>475.000000</td>\n",
       "      <td>452.750000</td>\n",
       "      <td>476.000000</td>\n",
       "      <td>477.000000</td>\n",
       "      <td>474.00000</td>\n",
       "      <td>...</td>\n",
       "      <td>468.000000</td>\n",
       "      <td>476.000000</td>\n",
       "      <td>471.000000</td>\n",
       "      <td>404.000000</td>\n",
       "      <td>470.00000</td>\n",
       "      <td>486.000000</td>\n",
       "      <td>474.000000</td>\n",
       "      <td>474.000000</td>\n",
       "      <td>482.000000</td>\n",
       "      <td>473.000000</td>\n",
       "    </tr>\n",
       "    <tr>\n",
       "      <th>50%</th>\n",
       "      <td>482.000000</td>\n",
       "      <td>483.000000</td>\n",
       "      <td>510.500000</td>\n",
       "      <td>483.000000</td>\n",
       "      <td>500.000000</td>\n",
       "      <td>479.000000</td>\n",
       "      <td>480.000000</td>\n",
       "      <td>477.000000</td>\n",
       "      <td>487.000000</td>\n",
       "      <td>479.00000</td>\n",
       "      <td>...</td>\n",
       "      <td>482.000000</td>\n",
       "      <td>479.000000</td>\n",
       "      <td>486.000000</td>\n",
       "      <td>504.000000</td>\n",
       "      <td>492.00000</td>\n",
       "      <td>511.000000</td>\n",
       "      <td>478.000000</td>\n",
       "      <td>483.000000</td>\n",
       "      <td>508.000000</td>\n",
       "      <td>490.000000</td>\n",
       "    </tr>\n",
       "    <tr>\n",
       "      <th>75%</th>\n",
       "      <td>486.000000</td>\n",
       "      <td>503.000000</td>\n",
       "      <td>536.000000</td>\n",
       "      <td>490.000000</td>\n",
       "      <td>528.000000</td>\n",
       "      <td>484.000000</td>\n",
       "      <td>506.250000</td>\n",
       "      <td>477.000000</td>\n",
       "      <td>496.250000</td>\n",
       "      <td>484.00000</td>\n",
       "      <td>...</td>\n",
       "      <td>496.000000</td>\n",
       "      <td>481.000000</td>\n",
       "      <td>502.000000</td>\n",
       "      <td>586.000000</td>\n",
       "      <td>517.00000</td>\n",
       "      <td>535.000000</td>\n",
       "      <td>482.000000</td>\n",
       "      <td>492.000000</td>\n",
       "      <td>533.000000</td>\n",
       "      <td>507.250000</td>\n",
       "    </tr>\n",
       "    <tr>\n",
       "      <th>max</th>\n",
       "      <td>503.000000</td>\n",
       "      <td>600.000000</td>\n",
       "      <td>654.000000</td>\n",
       "      <td>519.000000</td>\n",
       "      <td>688.000000</td>\n",
       "      <td>505.000000</td>\n",
       "      <td>611.000000</td>\n",
       "      <td>481.000000</td>\n",
       "      <td>536.000000</td>\n",
       "      <td>503.00000</td>\n",
       "      <td>...</td>\n",
       "      <td>549.000000</td>\n",
       "      <td>497.000000</td>\n",
       "      <td>566.000000</td>\n",
       "      <td>920.000000</td>\n",
       "      <td>615.00000</td>\n",
       "      <td>661.000000</td>\n",
       "      <td>500.000000</td>\n",
       "      <td>535.000000</td>\n",
       "      <td>644.000000</td>\n",
       "      <td>583.000000</td>\n",
       "    </tr>\n",
       "  </tbody>\n",
       "</table>\n",
       "<p>8 rows × 500 columns</p>\n",
       "</div>"
      ],
      "text/plain": [
       "               0            1            2            3            4    \\\n",
       "count  2000.000000  2000.000000  2000.000000  2000.000000  2000.000000   \n",
       "mean    481.722500   483.452500   510.166000   483.384500   501.612500   \n",
       "std       6.421769    30.186294    38.899165     9.059895    41.389418   \n",
       "min     462.000000   381.000000   370.000000   453.000000   371.000000   \n",
       "25%     477.000000   464.000000   485.000000   477.000000   475.000000   \n",
       "50%     482.000000   483.000000   510.500000   483.000000   500.000000   \n",
       "75%     486.000000   503.000000   536.000000   490.000000   528.000000   \n",
       "max     503.000000   600.000000   654.000000   519.000000   688.000000   \n",
       "\n",
       "               5            6            7            8           9    \\\n",
       "count  2000.000000  2000.000000  2000.000000  2000.000000  2000.00000   \n",
       "mean    479.259000   480.109500   476.565000   486.793500   478.78900   \n",
       "std       6.795956    40.575925     1.384461    15.043836     7.19092   \n",
       "min     459.000000   334.000000   471.000000   430.000000   455.00000   \n",
       "25%     475.000000   452.750000   476.000000   477.000000   474.00000   \n",
       "50%     479.000000   480.000000   477.000000   487.000000   479.00000   \n",
       "75%     484.000000   506.250000   477.000000   496.250000   484.00000   \n",
       "max     505.000000   611.000000   481.000000   536.000000   503.00000   \n",
       "\n",
       "          ...               490          491          492          493  \\\n",
       "count     ...       2000.000000  2000.000000  2000.000000  2000.000000   \n",
       "mean      ...        482.458500   478.811500   486.356500   496.565500   \n",
       "std       ...         20.890033     4.011735    23.967366   127.635442   \n",
       "min       ...        407.000000   463.000000   391.000000   130.000000   \n",
       "25%       ...        468.000000   476.000000   471.000000   404.000000   \n",
       "50%       ...        482.000000   479.000000   486.000000   504.000000   \n",
       "75%       ...        496.000000   481.000000   502.000000   586.000000   \n",
       "max       ...        549.000000   497.000000   566.000000   920.000000   \n",
       "\n",
       "              494          495          496          497          498  \\\n",
       "count  2000.00000  2000.000000  2000.000000  2000.000000  2000.000000   \n",
       "mean    493.49950   510.893000   478.219500   483.309000   507.977000   \n",
       "std      34.81902    37.459353     5.880613    13.559847    37.224297   \n",
       "min     368.00000   398.000000   457.000000   435.000000   363.000000   \n",
       "25%     470.00000   486.000000   474.000000   474.000000   482.000000   \n",
       "50%     492.00000   511.000000   478.000000   483.000000   508.000000   \n",
       "75%     517.00000   535.000000   482.000000   492.000000   533.000000   \n",
       "max     615.00000   661.000000   500.000000   535.000000   644.000000   \n",
       "\n",
       "               499  \n",
       "count  2000.000000  \n",
       "mean    490.266000  \n",
       "std      25.825273  \n",
       "min     403.000000  \n",
       "25%     473.000000  \n",
       "50%     490.000000  \n",
       "75%     507.250000  \n",
       "max     583.000000  \n",
       "\n",
       "[8 rows x 500 columns]"
      ]
     },
     "execution_count": 6,
     "metadata": {},
     "output_type": "execute_result"
    }
   ],
   "source": [
    "#Line 4\n",
    "desc_train_data = train_data.describe()\n",
    "desc_train_data"
   ]
  },
  {
   "cell_type": "code",
   "execution_count": 7,
   "metadata": {},
   "outputs": [
    {
     "name": "stdout",
     "output_type": "stream",
     "text": [
      "train Accuracy :  74.5 %\n",
      "test Accuracy :  59.0 %\n"
     ]
    }
   ],
   "source": [
    "#Line 5\n",
    "#Applying the Baseline Models\n",
    "#Logistic regression:\n",
    "\n",
    "#Copying the train and test values into x and y\n",
    "\n",
    "x = train_data.copy()\n",
    "x_test = test_data.copy()\n",
    "y = train_label.copy()\n",
    "y_test = test_label.copy()\n",
    "\n",
    "from sklearn.linear_model import LogisticRegression\n",
    "from sklearn import metrics\n",
    "\n",
    "log_reg = LogisticRegression()\n",
    "log_reg.fit(x,y)\n",
    "y_pred_train_log = log_reg.predict(x)\n",
    "train_log_reg_score = metrics.accuracy_score(y,y_pred_train_log)\n",
    "y_pred_test_log = log_reg.predict(x_test)\n",
    "test_log_reg_score = metrics.accuracy_score(y_test,y_pred_test_log)\n",
    "print(\"train Accuracy : \",train_log_reg_score*100,\"%\")\n",
    "print(\"test Accuracy : \",test_log_reg_score*100,\"%\")"
   ]
  },
  {
   "cell_type": "code",
   "execution_count": 8,
   "metadata": {},
   "outputs": [
    {
     "name": "stdout",
     "output_type": "stream",
     "text": [
      "train accuracy # 82.65 %\n",
      "test accuracy # 69.16666666666667 %\n"
     ]
    }
   ],
   "source": [
    "#Line 6\n",
    "#K-NN:\n",
    "from sklearn.neighbors import KNeighborsClassifier\n",
    "knn_class = KNeighborsClassifier()\n",
    "knn_class.fit(x,y)\n",
    "y_pred_train_knn = knn_class.predict(x)\n",
    "train_knn_score = metrics.accuracy_score(y,y_pred_train_knn)\n",
    "print(\"train accuracy\",\"#\",train_knn_score*100,\"%\")\n",
    "y_pred_test_knn = knn_class.predict(x_test)\n",
    "test_knn_score = metrics.accuracy_score(y_test, y_pred_test_knn)\n",
    "print(\"test accuracy\",\"#\",test_knn_score*100,\"%\")"
   ]
  },
  {
   "cell_type": "code",
   "execution_count": 9,
   "metadata": {},
   "outputs": [
    {
     "name": "stdout",
     "output_type": "stream",
     "text": [
      "train accuracy 100.0 %\n",
      "test accuracy 76.33333333333333 %\n"
     ]
    }
   ],
   "source": [
    "#Line 7\n",
    "#Decision Trees:\n",
    "from sklearn import tree\n",
    "dtree_class = tree.DecisionTreeClassifier()\n",
    "dtree_class = dtree_class.fit(x,y)\n",
    "y_pred_train_dtree = dtree_class.predict(x)\n",
    "y_pred_test_dtree = dtree_class.predict(x_test)\n",
    "train_score_dtree = metrics.accuracy_score(y,y_pred_train_dtree)\n",
    "print(\"train accuracy\",train_score_dtree*100,\"%\")\n",
    "test_score_dtree = metrics.accuracy_score(y_test,y_pred_test_dtree)\n",
    "print(\"test accuracy\",test_score_dtree*100,\"%\")"
   ]
  },
  {
   "cell_type": "code",
   "execution_count": 10,
   "metadata": {},
   "outputs": [
    {
     "name": "stdout",
     "output_type": "stream",
     "text": [
      "train accuracy 100.0 %\n",
      "test accuracy 74.0 %\n"
     ]
    }
   ],
   "source": [
    "#line 8\n",
    "#Random Forests:\n",
    "from sklearn.ensemble import RandomForestClassifier\n",
    "rdf_class = RandomForestClassifier(n_estimators = 1000, random_state = 40, max_depth = 10)\n",
    "rdf_class = rdf_class.fit(x,y)\n",
    "y_pred_train_rdf = rdf_class.predict(x)\n",
    "y_pred_test_rdf = rdf_class.predict(x_test)\n",
    "train_score_rdf = metrics.accuracy_score(y,y_pred_train_rdf)\n",
    "print(\"train accuracy\",train_score_rdf*100,\"%\")\n",
    "test_score_rdf = metrics.accuracy_score(y_test,y_pred_test_rdf)\n",
    "print(\"test accuracy\",test_score_rdf*100,\"%\")"
   ]
  },
  {
   "cell_type": "code",
   "execution_count": 23,
   "metadata": {},
   "outputs": [
    {
     "data": {
      "text/plain": [
       "Text(0.5,1,'Correlation of features')"
      ]
     },
     "execution_count": 23,
     "metadata": {},
     "output_type": "execute_result"
    },
    {
     "data": {
      "image/png": "[encoded data removed]",
      "text/plain": [
       "<Figure size 432x288 with 1 Axes>"
      ]
     },
     "metadata": {},
     "output_type": "display_data"
    }
   ],
   "source": [
    "# Line 9\n",
    "# Feature Engineering Phase1\n",
    "#Calculate the correlation matrix\n",
    "correlation_matrix = x.corr()\n",
    "plt.imshow(correlation_matrix,cmap='hot',interpolation='nearest')\n",
    "plt.xlabel(\"Features\")\n",
    "plt.ylabel(\"Features\")\n",
    "plt.title(\"Correlation of features\")"
   ]
  },
  {
   "cell_type": "code",
   "execution_count": 12,
   "metadata": {},
   "outputs": [
    {
     "name": "stdout",
     "output_type": "stream",
     "text": [
      "train accuracy 98.9 %\n",
      "test accuracy 88.5 %\n"
     ]
    }
   ],
   "source": [
    "#Line 9\n",
    "#Feature Engineering Phase2\n",
    "#Selection of Features using the Random Forests Feature_Importance model.\n",
    "\n",
    "rdf_class_1 = RandomForestClassifier(n_estimators = 1000, random_state = 40, max_depth = 10)\n",
    "rdf_class_1 = rdf_class.fit(x,y)\n",
    "imp_Fea_Df = pd.DataFrame({'Feature':x.columns.tolist(),'Feature Importance': list(rdf_class_1.feature_importances_)})\n",
    "imp_Features_list = imp_Fea_Df.sort_values('Feature Importance', ascending = False).nlargest(20,'Feature Importance')\n",
    "\n",
    "drop_lis = []\n",
    "for i in x.columns.values.tolist():\n",
    "    if i not in imp_Features_list['Feature']:\n",
    "        drop_lis.append(i)\n",
    "\n",
    "\n",
    "x_feature_eng = x.copy()\n",
    "x_test_feature_eng = x_test.copy()\n",
    "x_feature_eng = x_feature_eng.drop(drop_lis, axis = 1)\n",
    "x_test_feature_eng = x_test_feature_eng.drop(drop_lis, axis = 1)      \n",
    "\n",
    "rdf_class_feature_eng = RandomForestClassifier(n_estimators = 1000, random_state = 22, max_depth = 10)    \n",
    "rdf_class_feature_eng = rdf_class_feature_eng.fit(x_feature_eng,y)\n",
    "y_pred_train_rdf_feature_eng = rdf_class_feature_eng.predict(x_feature_eng)\n",
    "y_pred_test_rdf_feature_eng = rdf_class_feature_eng.predict(x_test_feature_eng)\n",
    "train_score_rdf_feature_eng = metrics.accuracy_score(y,y_pred_train_rdf_feature_eng)\n",
    "print(\"train accuracy\",train_score_rdf_feature_eng*100,\"%\")\n",
    "test_score_rdf_feature_eng = metrics.accuracy_score(y_test,y_pred_test_rdf_feature_eng)\n",
    "print(\"test accuracy\",test_score_rdf_feature_eng*100,\"%\")"
   ]
  },
  {
   "cell_type": "code",
   "execution_count": 24,
   "metadata": {},
   "outputs": [
    {
     "name": "stdout",
     "output_type": "stream",
     "text": [
      "train Accuracy :  c =  10.0 61.25000000000001 %\n",
      "test Accuracy :  c =  10.0 58.833333333333336 %\n",
      "train Accuracy :  c =  5.0 61.3 %\n",
      "test Accuracy :  c =  5.0 58.833333333333336 %\n",
      "train Accuracy :  c =  3.3333333333333335 61.3 %\n",
      "test Accuracy :  c =  3.3333333333333335 58.833333333333336 %\n",
      "train Accuracy :  c =  2.0 61.25000000000001 %\n",
      "test Accuracy :  c =  2.0 58.833333333333336 %\n",
      "train Accuracy :  c =  1.0 61.25000000000001 %\n",
      "test Accuracy :  c =  1.0 58.833333333333336 %\n",
      "train Accuracy :  c =  0.5 61.25000000000001 %\n",
      "test Accuracy :  c =  0.5 59.0 %\n",
      "train Accuracy :  c =  0.3333333333333333 61.25000000000001 %\n",
      "test Accuracy :  c =  0.3333333333333333 58.833333333333336 %\n",
      "train Accuracy :  c =  0.25 61.25000000000001 %\n",
      "test Accuracy :  c =  0.25 58.833333333333336 %\n",
      "train Accuracy :  c =  0.1 61.25000000000001 %\n",
      "test Accuracy :  c =  0.1 59.0 %\n",
      "train Accuracy :  c =  0.01 61.199999999999996 %\n",
      "test Accuracy :  c =  0.01 59.5 %\n",
      "train Accuracy :  c =  0.00980392156862745 61.199999999999996 %\n",
      "test Accuracy :  c =  0.00980392156862745 59.5 %\n",
      "train Accuracy :  c =  0.009708737864077669 61.199999999999996 %\n",
      "test Accuracy :  c =  0.009708737864077669 59.5 %\n",
      "train Accuracy :  c =  0.001 61.050000000000004 %\n",
      "test Accuracy :  c =  0.001 59.833333333333336 %\n",
      "train Accuracy :  c =  0.0001 61.3 %\n",
      "test Accuracy :  c =  0.0001 59.5 %\n"
     ]
    },
    {
     "data": {
      "text/plain": [
       "<matplotlib.legend.Legend at 0x21ca6b06748>"
      ]
     },
     "execution_count": 24,
     "metadata": {},
     "output_type": "execute_result"
    },
    {
     "data": {
      "image/png": "[encoded data removed]",
      "text/plain": [
       "<Figure size 432x288 with 1 Axes>"
      ]
     },
     "metadata": {},
     "output_type": "display_data"
    }
   ],
   "source": [
    "#Hyper param tuning of Logistic Regression\n",
    "lamda = [0.1,0.2,0.3,0.5,1,2,3,4,10,100,102,103,1000,10000]\n",
    "c = [1/h for h in lamda]\n",
    "n=[]\n",
    "m=[]\n",
    "for i in c:\n",
    "    log_reg = LogisticRegression(penalty='l2', C=i)\n",
    "    log_reg.fit(x_feature_eng,y)\n",
    "    y_pred_train_log = log_reg.predict(x_feature_eng)\n",
    "    y_pred_test_log = log_reg.predict(x_test_feature_eng)\n",
    "    train_log_reg_score = metrics.accuracy_score(y,y_pred_train_log)\n",
    "    test_log_reg_score = metrics.accuracy_score(y_test,y_pred_test_log)\n",
    "    print(\"train Accuracy : \",\"c = \",i,train_log_reg_score*100,\"%\")\n",
    "    print(\"test Accuracy : \",\"c = \",i,test_log_reg_score*100,\"%\")\n",
    "    n.append(train_log_reg_score)\n",
    "    m.append(test_log_reg_score)\n",
    "plt.plot(c,n, label=\"Train accuracy\")\n",
    "plt.plot(c,m, label=\"Test accuracy\")\n",
    "plt.xlabel(\"Tuning parameter\")\n",
    "plt.ylabel(\"Accuracy\")\n",
    "plt.title(\"Hyper param tuning of Logistic Regression\")\n",
    "plt.legend(loc = \"upper right\")"
   ]
  },
  {
   "cell_type": "code",
   "execution_count": 25,
   "metadata": {},
   "outputs": [
    {
     "name": "stdout",
     "output_type": "stream",
     "text": [
      "train accuracy # 1 100.0 %\n",
      "test accuracy # 1 88.5 %\n",
      "train accuracy # 2 93.75 %\n",
      "test accuracy # 2 89.0 %\n",
      "train accuracy # 3 93.89999999999999 %\n",
      "test accuracy # 3 89.33333333333333 %\n",
      "train accuracy # 4 92.0 %\n",
      "test accuracy # 4 89.33333333333333 %\n",
      "train accuracy # 5 92.30000000000001 %\n",
      "test accuracy # 5 89.66666666666666 %\n",
      "train accuracy # 6 91.4 %\n",
      "test accuracy # 6 88.66666666666667 %\n",
      "train accuracy # 7 91.55 %\n",
      "test accuracy # 7 88.83333333333333 %\n",
      "train accuracy # 8 90.7 %\n",
      "test accuracy # 8 89.83333333333333 %\n",
      "train accuracy # 9 90.8 %\n",
      "test accuracy # 9 88.5 %\n",
      "train accuracy # 10 90.35 %\n",
      "test accuracy # 10 89.5 %\n",
      "train accuracy # 11 90.8 %\n",
      "test accuracy # 11 89.16666666666667 %\n",
      "train accuracy # 12 90.25 %\n",
      "test accuracy # 12 89.66666666666666 %\n",
      "train accuracy # 13 90.10000000000001 %\n",
      "test accuracy # 13 89.16666666666667 %\n",
      "train accuracy # 14 89.5 %\n",
      "test accuracy # 14 89.16666666666667 %\n"
     ]
    },
    {
     "data": {
      "text/plain": [
       "<matplotlib.legend.Legend at 0x21ca9fac6a0>"
      ]
     },
     "execution_count": 25,
     "metadata": {},
     "output_type": "execute_result"
    },
    {
     "data": {
      "image/png": "[encoded data removed]",
      "text/plain": [
       "<Figure size 432x288 with 1 Axes>"
      ]
     },
     "metadata": {},
     "output_type": "display_data"
    }
   ],
   "source": [
    "#Hyper param tuning of KNN:\n",
    "from sklearn.neighbors import KNeighborsClassifier\n",
    "no_of_neighbours = [i for i in range(1,15,1)]\n",
    "u=[]\n",
    "v=[]\n",
    "v1=[]\n",
    "for neighbour in no_of_neighbours:\n",
    "    knn_class = KNeighborsClassifier(n_neighbors= neighbour)\n",
    "    knn_class.fit(x_feature_eng,y)\n",
    "    y_pred_train_knn = knn_class.predict(x_feature_eng)\n",
    "    train_knn_score = metrics.accuracy_score(y,y_pred_train_knn)\n",
    "    print(\"train accuracy\",\"#\",neighbour,train_knn_score*100,\"%\")\n",
    "    y_pred_test_knn = knn_class.predict(x_test_feature_eng)\n",
    "    test_knn_score = metrics.accuracy_score(y_test, y_pred_test_knn)\n",
    "    print(\"test accuracy\",\"#\",neighbour,test_knn_score*100,\"%\")\n",
    "    v.append(test_knn_score*100)\n",
    "    v1.append(train_knn_score*100)\n",
    "    u.append(neighbour)\n",
    "plt.plot(u,v, label = \"Test Accuracy\")\n",
    "plt.plot(u,v1, label = \"Train Accuracy\")\n",
    "plt.xlabel(\"No of Neighbours\")\n",
    "plt.ylabel(\"Accuracy\")\n",
    "plt.title(\"Hyper param tuning of KNN\")\n",
    "plt.legend(loc = \"upper right\")"
   ]
  },
  {
   "cell_type": "code",
   "execution_count": 119,
   "metadata": {},
   "outputs": [
    {
     "name": "stdout",
     "output_type": "stream",
     "text": [
      "train accuracy 100.0 %\n",
      "test accuracy 84.66666666666667 %\n"
     ]
    }
   ],
   "source": [
    "#Decision Tree with the Feature Engineered train set\n",
    "from sklearn import tree\n",
    "dtree_class = tree.DecisionTreeClassifier()\n",
    "dtree_class = dtree_class.fit(x_feature_eng,y)\n",
    "y_pred_train_dtree = dtree_class.predict(x_feature_eng)\n",
    "y_pred_test_dtree = dtree_class.predict(x_test_feature_eng)\n",
    "train_score_dtree = metrics.accuracy_score(y,y_pred_train_dtree)\n",
    "print(\"train accuracy\",train_score_dtree*100,\"%\")\n",
    "test_score_dtree = metrics.accuracy_score(y_test,y_pred_test_dtree)\n",
    "print(\"test accuracy\",test_score_dtree*100,\"%\")"
   ]
  },
  {
   "cell_type": "code",
   "execution_count": 16,
   "metadata": {},
   "outputs": [
    {
     "name": "stdout",
     "output_type": "stream",
     "text": [
      "Fitting 3 folds for each of 100 candidates, totalling 300 fits\n"
     ]
    },
    {
     "name": "stderr",
     "output_type": "stream",
     "text": [
      "[Parallel(n_jobs=-1)]: Done  17 tasks      | elapsed:   45.4s\n",
      "[Parallel(n_jobs=-1)]: Done 138 tasks      | elapsed:  3.2min\n",
      "[Parallel(n_jobs=-1)]: Done 300 out of 300 | elapsed:  6.5min finished\n"
     ]
    },
    {
     "name": "stdout",
     "output_type": "stream",
     "text": [
      "{'n_estimators': 800, 'min_samples_split': 5, 'min_samples_leaf': 1, 'max_features': 'sqrt', 'max_depth': 90, 'bootstrap': False}\n"
     ]
    }
   ],
   "source": [
    "#Hyper parameter Tuning of Random Forest using Randomized Search\n",
    "\n",
    "import numpy as np\n",
    "from sklearn.model_selection import RandomizedSearchCV\n",
    "from sklearn.grid_search import GridSearchCV \n",
    "n_estimators = [int(x) for x in np.linspace(start = 200, stop = 2000, num = 10)]\n",
    "max_features = ['auto', 'sqrt']\n",
    "max_depth = [int(x) for x in np.linspace(10, 110, num = 11)]\n",
    "max_depth.append(None)\n",
    "min_samples_split = [2, 5, 11]\n",
    "min_samples_leaf = [1, 2, 4]\n",
    "bootstrap = [True, False]\n",
    "random_grid = {'n_estimators': n_estimators,\n",
    "               'max_features': max_features,\n",
    "               'max_depth': max_depth,\n",
    "               'min_samples_split': min_samples_split,\n",
    "               'min_samples_leaf': min_samples_leaf,\n",
    "               'bootstrap': bootstrap}\n",
    "rdf = RandomForestClassifier()\n",
    "rdf_random = RandomizedSearchCV(estimator = rdf, param_distributions = random_grid, n_iter = 100, cv = 3, verbose=2, random_state=42, n_jobs = -1)\n",
    "\n",
    "rdf_random.fit(x_feature_eng, y)\n",
    "print(rdf_random.best_params_)"
   ]
  },
  {
   "cell_type": "code",
   "execution_count": 21,
   "metadata": {},
   "outputs": [
    {
     "name": "stdout",
     "output_type": "stream",
     "text": [
      "Train Accuracy of Final Ensembled Model 96.75 %\n",
      "Test Accuracy of Final Ensembled Model 91.16666666666666 %\n"
     ]
    }
   ],
   "source": [
    "#Line 10\n",
    "#This is the final Ensembled Model with top 20 features from the Feature Engineering phase2.\n",
    "#Ensembling:\n",
    "from sklearn import model_selection\n",
    "from sklearn.linear_model import LogisticRegression\n",
    "from sklearn.tree import DecisionTreeClassifier\n",
    "from sklearn.svm import SVC\n",
    "from sklearn.ensemble import VotingClassifier\n",
    "clf1 = LogisticRegression(solver='lbfgs', multi_class='multinomial',random_state=1, C =0.01, penalty = \"l2\")\n",
    "clf2 = RandomForestClassifier(n_estimators = 1000, min_samples_split = 2, min_samples_leaf = 2, max_features = 'sqrt', max_depth = 500, bootstrap= False)\n",
    "clf3 = DecisionTreeClassifier(random_state=22, splitter= \"best\")\n",
    "clf4 = KNeighborsClassifier(n_neighbors= 12)\n",
    "eclf = VotingClassifier(estimators=[('lr', clf1), ('rf', clf2),('dt', clf3),('knn',clf4)], voting='hard')\n",
    "eclf = eclf.fit(x_feature_eng, y)\n",
    "y_train_pred_ensemble = eclf.predict(x_feature_eng)\n",
    "y_test_pred_ensemble = eclf.predict(x_test_feature_eng)\n",
    "train_ensemble_score = metrics.accuracy_score(y,y_train_pred_ensemble)\n",
    "test_ensemble_score = metrics.accuracy_score(y_test,y_test_pred_ensemble)\n",
    "print(\"Train Accuracy of Final Ensembled Model\",train_ensemble_score*100,\"%\")\n",
    "print(\"Test Accuracy of Final Ensembled Model\",test_ensemble_score*100,\"%\")"
   ]
  },
  {
   "cell_type": "code",
   "execution_count": 26,
   "metadata": {},
   "outputs": [
    {
     "data": {
      "text/plain": [
       "[(10, 95)]"
      ]
     },
     "execution_count": 26,
     "metadata": {},
     "output_type": "execute_result"
    },
    {
     "data": {
      "image/png": "[encoded data removed]",
      "text/plain": [
       "<Figure size 432x288 with 1 Axes>"
      ]
     },
     "metadata": {},
     "output_type": "display_data"
    }
   ],
   "source": [
    "Accuracies = [59,59.8,69,89.66,75.5,84.66,74,88.5,91]\n",
    "Models = [\"LB\",\"TLR\",\"KNN-B\",\"TKNN\",\"DTB\",\"TDT\",\"RdFB\",\"TFRdF\",\"Ens\"]\n",
    "o = sns.barplot(Models,Accuracies)\n",
    "o.set(xlabel=\"Models\", ylabel=\"Accuracies\", title=\"Comparision of Models based on Accuracies\")\n",
    "o.set(ylim=(10, 95))\n"
   ]
  },
  {
   "cell_type": "code",
   "execution_count": null,
   "metadata": {},
   "outputs": [],
   "source": []
  }
 ],
 "metadata": {
  "kernelspec": {
   "display_name": "Python 3",
   "language": "python",
   "name": "python3"
  },
  "language_info": {
   "codemirror_mode": {
    "name": "ipython",
    "version": 3
   },
   "file_extension": ".py",
   "mimetype": "text/x-python",
   "name": "python",
   "nbconvert_exporter": "python",
   "pygments_lexer": "ipython3",
   "version": "3.6.5"
  }
 },
 "nbformat": 4,
 "nbformat_minor": 2
}
